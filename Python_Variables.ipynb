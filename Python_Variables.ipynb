{
  "nbformat": 4,
  "nbformat_minor": 0,
  "metadata": {
    "colab": {
      "provenance": [],
      "authorship_tag": "ABX9TyMoFWxnLHDPiZElpekClSkQ",
      "include_colab_link": true
    },
    "kernelspec": {
      "name": "python3",
      "display_name": "Python 3"
    },
    "language_info": {
      "name": "python"
    }
  },
  "cells": [
    {
      "cell_type": "markdown",
      "metadata": {
        "id": "view-in-github",
        "colab_type": "text"
      },
      "source": [
        "<a href=\"https://colab.research.google.com/github/juacastanori/SyS/blob/main/Python_Variables.ipynb\" target=\"_parent\"><img src=\"https://colab.research.google.com/assets/colab-badge.svg\" alt=\"Open In Colab\"/></a>"
      ]
    },
    {
      "cell_type": "markdown",
      "source": [
        "# Cuaderno 1 - Ejercicios Python\n",
        "\n",
        ">\n",
        "\n",
        "\n",
        "## Juan Jerónimo Castaño Rivera - 2024"
      ],
      "metadata": {
        "id": "P_M396f3lSot"
      }
    },
    {
      "cell_type": "markdown",
      "source": [
        "# **Desarrollo de ejercicios**"
      ],
      "metadata": {
        "id": "3RQB94lGPzNR"
      }
    },
    {
      "cell_type": "markdown",
      "source": [
        "Ejecicio 1: Write a program that displays the result of the following arithmetic operation on the screen:\n",
        "\n",
        " $x(t) = \\left(\\frac{3+2}{2.5}\\right)^2$"
      ],
      "metadata": {
        "id": "aPRL0QiyP8Ai"
      }
    },
    {
      "cell_type": "code",
      "source": [
        "a=3+2\n",
        "b=2.5\n",
        "x=(a/b)**2\n",
        "print(\"El resultado de x(t) es: \",x)"
      ],
      "metadata": {
        "colab": {
          "base_uri": "https://localhost:8080/"
        },
        "id": "kanDcZG2P-MY",
        "outputId": "2bd659ab-4b73-4b24-cadb-15c8c7050fdc"
      },
      "execution_count": null,
      "outputs": [
        {
          "output_type": "stream",
          "name": "stdout",
          "text": [
            "El resultado de x(t) es:  4.0\n"
          ]
        }
      ]
    },
    {
      "cell_type": "markdown",
      "source": [
        "Ejercicio 2: Write a program that asks the user for the number of hours worked and the hourly rate. Then, it should display on the screen the corresponding payment."
      ],
      "metadata": {
        "id": "WMwAX0SKQZFa"
      }
    },
    {
      "cell_type": "code",
      "source": [
        "print(\"Programa que calcula el pago que se le debe realizar a un trabajador sabiendo el número de horas que trabajó y la tarifa por hora\\n\")\n",
        "x=int(input(\"Ingrese el número de horas: \"))\n",
        "y=int(input(\"Ingrese la tarifa por hora: $\"))\n",
        "res=x*y\n",
        "print(\"El pago es de: $\",res)"
      ],
      "metadata": {
        "colab": {
          "base_uri": "https://localhost:8080/"
        },
        "id": "PR_y9rkgQr4g",
        "outputId": "3277302d-3a64-4045-e6bb-24e13aa5abe8"
      },
      "execution_count": null,
      "outputs": [
        {
          "output_type": "stream",
          "name": "stdout",
          "text": [
            "Programa que calcula el pago que se le debe realizar a un trabajador sabiendo el número de horas que trabajó y la tarifa por hora\n",
            "\n",
            "Ingrese el número de horas: 10\n",
            "Ingrese la tarifa por hora: $20\n",
            "El pago es de: $ 200\n"
          ]
        }
      ]
    },
    {
      "cell_type": "markdown",
      "source": [
        "Ejercicio 3: Write a program that asks the user for their weight (in kg) and height (in meters), calculates the body mass index (BMI), stores it in a variable, and displays the message \"Your body mass index is imc\" on the screen, where imc is the calculated BMI rounded to two decimal places.\n",
        "\n",
        "\n",
        "IMC"
      ],
      "metadata": {
        "id": "4EPyhVOAR2Ur"
      }
    },
    {
      "cell_type": "code",
      "source": [
        "print(\"Programa que calcula el índice de masa corporal de una persona sabiendo su estatura (en metros) y peso en (kg)\\n\")\n",
        "y=float(input(\"Ingrese la estatura: \"))\n",
        "x=float(input(\"Ingrese el peso: \"))\n",
        "Imc=x/(y**2)\n",
        "print(\"El IMC es de: \",round(Imc,2))"
      ],
      "metadata": {
        "colab": {
          "base_uri": "https://localhost:8080/"
        },
        "id": "zDOLORNgR4y7",
        "outputId": "5efb4887-e7a2-4e12-c85a-4cd37c495ef6"
      },
      "execution_count": null,
      "outputs": [
        {
          "output_type": "stream",
          "name": "stdout",
          "text": [
            "Programa que calcula el índice de masa corporal de una persona sabiendo su estatura (en metros) y peso en (kg)\n",
            "\n",
            "Ingrese la estatura: 1.63\n",
            "Ingrese el peso: 52\n",
            "El IMC es de:  19.57\n"
          ]
        }
      ]
    }
  ]
}