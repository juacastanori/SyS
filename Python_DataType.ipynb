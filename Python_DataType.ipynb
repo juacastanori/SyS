{
  "nbformat": 4,
  "nbformat_minor": 0,
  "metadata": {
    "colab": {
      "provenance": [],
      "authorship_tag": "ABX9TyPO8+cpAG2A/eCogEVQAzH7",
      "include_colab_link": true
    },
    "kernelspec": {
      "name": "python3",
      "display_name": "Python 3"
    },
    "language_info": {
      "name": "python"
    }
  },
  "cells": [
    {
      "cell_type": "markdown",
      "metadata": {
        "id": "view-in-github",
        "colab_type": "text"
      },
      "source": [
        "<a href=\"https://colab.research.google.com/github/juacastanori/SyS/blob/main/Python_DataType.ipynb\" target=\"_parent\"><img src=\"https://colab.research.google.com/assets/colab-badge.svg\" alt=\"Open In Colab\"/></a>"
      ]
    },
    {
      "cell_type": "markdown",
      "source": [
        "#Cuaderno 6 - Ejercicios Python Estructuras de Datos\n",
        "##Juan Jerónimo Castaño Rivera - 2024"
      ],
      "metadata": {
        "id": "vbbOmLmxNhAD"
      }
    },
    {
      "cell_type": "markdown",
      "source": [
        "##EJERCICIOS"
      ],
      "metadata": {
        "id": "lZ0GOPqcNpjK"
      }
    },
    {
      "cell_type": "markdown",
      "source": [
        "1) Write a function that takes a list of numbers as input and returns the sum of all the odd numbers in the list. For example, if the input is [1, 2, 3, 4, 5, 6], the function should return 9 (which is the sum of 1, 3, and 5)."
      ],
      "metadata": {
        "id": "ePATVE5Uaaq3"
      }
    },
    {
      "cell_type": "code",
      "execution_count": 19,
      "metadata": {
        "colab": {
          "base_uri": "https://localhost:8080/"
        },
        "id": "YA1KQS54NeH-",
        "outputId": "d3c5ed21-5461-404a-aa9e-811db9028b14"
      },
      "outputs": [
        {
          "output_type": "stream",
          "name": "stdout",
          "text": [
            "Ingrese N (# de numeros de la lista): 6\n",
            "Ingrese el número 1: 1\n",
            "Ingrese el número 2: 2\n",
            "Ingrese el número 3: 3\n",
            "Ingrese el número 4: 4\n",
            "Ingrese el número 5: 5\n",
            "Ingrese el número 6: 6\n",
            "La suma de los elementos impares de la lista es:  9\n"
          ]
        }
      ],
      "source": [
        "n=input(\"Ingrese N (# de numeros de la lista): \")\n",
        "n=int(n)\n",
        "L=[]\n",
        "sum=0\n",
        "for i in range(0,n):\n",
        "  x=input(f\"Ingrese el número {i+1}: \")\n",
        "  L.append(int(x))\n",
        "for i in range(len(L)):\n",
        "  if L[i]%2==1:\n",
        "    sum=sum+L[i]\n",
        "print(\"La suma de los elementos impares de la lista es: \",sum)"
      ]
    },
    {
      "cell_type": "markdown",
      "source": [
        "2) Write a function that takes a list of words as input and returns a dictionary that counts the number of times each word appears in the list. For example, if the input is ['apple', 'banana', 'apple', 'cherry', 'cherry', 'cherry'], the function should return {'apple': 2, 'banana': 1, 'cherry': 3}."
      ],
      "metadata": {
        "id": "nZk7IjLgfXKu"
      }
    },
    {
      "cell_type": "code",
      "source": [
        "def fun(L):\n",
        "  dic={}\n",
        "  for i in L:\n",
        "    cont=0\n",
        "    for j in range(len(L)):\n",
        "      if i==L[j]:\n",
        "        cont=cont+1\n",
        "    dic[i]=cont\n",
        "  print(dic)\n"
      ],
      "metadata": {
        "id": "GyvY1SqlfWso"
      },
      "execution_count": 17,
      "outputs": []
    },
    {
      "cell_type": "code",
      "source": [
        "L=['apple', 'banana', 'apple', 'cherry', 'cherry', 'cherry']\n",
        "x=fun(L)\n"
      ],
      "metadata": {
        "colab": {
          "base_uri": "https://localhost:8080/"
        },
        "id": "_u7kd9zxh9x_",
        "outputId": "9be350f6-e4f5-4cf7-8af3-3a1b14aaf33f"
      },
      "execution_count": 22,
      "outputs": [
        {
          "output_type": "stream",
          "name": "stdout",
          "text": [
            "{'apple': 2, 'banana': 1, 'cherry': 3}\n"
          ]
        }
      ]
    }
  ]
}