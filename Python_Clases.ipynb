{
  "nbformat": 4,
  "nbformat_minor": 0,
  "metadata": {
    "colab": {
      "provenance": [],
      "authorship_tag": "ABX9TyNNjbg3PI7qPTxXKOIv/kDW",
      "include_colab_link": true
    },
    "kernelspec": {
      "name": "python3",
      "display_name": "Python 3"
    },
    "language_info": {
      "name": "python"
    }
  },
  "cells": [
    {
      "cell_type": "markdown",
      "metadata": {
        "id": "view-in-github",
        "colab_type": "text"
      },
      "source": [
        "<a href=\"https://colab.research.google.com/github/juacastanori/SyS/blob/main/Python_Clases.ipynb\" target=\"_parent\"><img src=\"https://colab.research.google.com/assets/colab-badge.svg\" alt=\"Open In Colab\"/></a>"
      ]
    },
    {
      "cell_type": "markdown",
      "source": [
        "#Cuaderno 7 - Ejercicios Python Clases\n",
        "##Juan Jerónimo Castaño Rivera - 2024"
      ],
      "metadata": {
        "id": "GTBGUdyfkdVn"
      }
    },
    {
      "cell_type": "markdown",
      "source": [
        "#EJERCICIOS\n",
        "\n",
        "1. Crea una clase \"Persona\" que tenga atributos como nombre, edad, género y métodos para presentarse y saludar a otras personas.\n",
        "\n",
        "2. Crea una clase \"Coche\" que tenga atributos como marca, modelo, año, kilometraje y métodos para arrancar, acelerar y frenar.\n",
        "\n",
        "3. Crea una clase \"Rectángulo\" que tenga atributos como longitud y ancho y métodos para calcular el área y el perímetro.\n",
        "\n",
        "4. Crea una clase \"Banco\" que tenga atributos como nombre, dirección y métodos para abrir una cuenta, depositar dinero, retirar dinero y revisar el saldo.\n",
        "\n",
        "5. Crea una clase \"Estudiante\" que tenga atributos como nombre, edad, promedio y métodos para estudiar, hacer tareas y presentar exámenes."
      ],
      "metadata": {
        "id": "4RG_3nyrkj7m"
      }
    },
    {
      "cell_type": "markdown",
      "source": [
        "Ej 1"
      ],
      "metadata": {
        "id": "KwpL032l5Nx8"
      }
    },
    {
      "cell_type": "code",
      "execution_count": 76,
      "metadata": {
        "id": "lKtYRxoPkXo7"
      },
      "outputs": [],
      "source": [
        "class Persona:\n",
        "    def __init__(self, nombre, edad, genero):\n",
        "        self.nombre = nombre\n",
        "        self.edad = edad\n",
        "        self.genero = genero\n",
        "\n",
        "    def presentar(self):\n",
        "        print(f\"Hola amigo/a, mi nombre es {self.nombre}, tengo {self.edad} años, soy {self.genero}. Mucho gusto\")\n",
        "\n",
        "    def saludar1(self):\n",
        "        print(f\"Hola, como estas?\")\n",
        "\n",
        "    def saludar2(self):\n",
        "        print(f\"Buenas tardes\")"
      ]
    },
    {
      "cell_type": "code",
      "source": [
        "persona1 = Persona(\"Tyler\", 25,\"hombre\")"
      ],
      "metadata": {
        "id": "g6WciH8hpVqB"
      },
      "execution_count": 77,
      "outputs": []
    },
    {
      "cell_type": "code",
      "source": [
        "persona1.presentar()"
      ],
      "metadata": {
        "colab": {
          "base_uri": "https://localhost:8080/"
        },
        "id": "vBUXDts1pspo",
        "outputId": "f6f3e45d-8ad6-46a1-9395-963bb956231b"
      },
      "execution_count": 78,
      "outputs": [
        {
          "output_type": "stream",
          "name": "stdout",
          "text": [
            "Hola amigo/a, mi nombre es Tyler, tengo 25 años, soy hombre. Mucho gusto\n"
          ]
        }
      ]
    },
    {
      "cell_type": "markdown",
      "source": [
        "Ej 2"
      ],
      "metadata": {
        "id": "gVLf-tWU5Riq"
      }
    },
    {
      "cell_type": "code",
      "source": [
        "class Coche:\n",
        "    def __init__(self, marca, modelo, año, kilometraje):\n",
        "        self.marca = marca\n",
        "        self.modelo = modelo\n",
        "        self.año = año\n",
        "        self.kilometraje = kilometraje\n",
        "\n",
        "    def acelerar(self):\n",
        "        print(f\"El coche marca {self.marca}, modelo {self.modelo}, del año {self.año} está acelerando\")\n",
        "\n",
        "    def frenar(self):\n",
        "        print(f\"El coche marca {self.marca}, modelo {self.modelo}, del año {self.año} está frenando\")\n",
        "\n",
        "    def arrancar(self):\n",
        "        print(f\"El coche marca {self.marca}, modelo {self.modelo}, del año {self.año} está arrancando\")"
      ],
      "metadata": {
        "id": "G7Ya0C3XqLiY"
      },
      "execution_count": 79,
      "outputs": []
    },
    {
      "cell_type": "code",
      "source": [
        "coche1=Coche(\"Renault\", \"Sandero\", \"2023\", 14000)\n",
        "coche1.acelerar()"
      ],
      "metadata": {
        "colab": {
          "base_uri": "https://localhost:8080/"
        },
        "id": "Og2_uv6DtJrY",
        "outputId": "d4fcfc34-be49-491b-e52e-a832ee346260"
      },
      "execution_count": 80,
      "outputs": [
        {
          "output_type": "stream",
          "name": "stdout",
          "text": [
            "El coche marca Renault, modelo Sandero, del año 2023 está acelerando\n"
          ]
        }
      ]
    },
    {
      "cell_type": "markdown",
      "source": [
        "Ej 3"
      ],
      "metadata": {
        "id": "Sj465OHr5TR8"
      }
    },
    {
      "cell_type": "code",
      "source": [
        "class rect:\n",
        "  def __init__(self, l,a):\n",
        "    self.l=l\n",
        "    self.a=a\n",
        "  def area(self):\n",
        "    ar=self.l*self.a\n",
        "    print(f\"El area del rectángulo es {ar}\")\n",
        "  def perimetro(self):\n",
        "    per=2*self.l+2*self.a\n",
        "    print(f\"El perimetro del rectangulo es {per}\")"
      ],
      "metadata": {
        "id": "i8qA4S9VtyIx"
      },
      "execution_count": 81,
      "outputs": []
    },
    {
      "cell_type": "code",
      "source": [
        "p=rect(4,5)\n",
        "p.area()\n",
        "p.perimetro()"
      ],
      "metadata": {
        "colab": {
          "base_uri": "https://localhost:8080/"
        },
        "id": "QW-GGhdQu_lK",
        "outputId": "402dfb86-024f-47ad-ac5b-cbd0fe37e349"
      },
      "execution_count": 82,
      "outputs": [
        {
          "output_type": "stream",
          "name": "stdout",
          "text": [
            "El area del rectángulo es 20\n",
            "El perimetro del rectangulo es 18\n"
          ]
        }
      ]
    },
    {
      "cell_type": "markdown",
      "source": [
        "Ej 4"
      ],
      "metadata": {
        "id": "-0L-xVQS5U7s"
      }
    },
    {
      "cell_type": "code",
      "source": [
        "class Banco:\n",
        "    def __init__(self, nombre, direccion):\n",
        "      self.nombre = nombre\n",
        "      self.direccion=direccion\n",
        "    def cuenta (self,saldo):\n",
        "      self.saldo=saldo\n",
        "      print(f\"Se creó una cuenta con ${self.saldo} de saldo\")\n",
        "    def dep(self,cantidad):\n",
        "      self.saldo += cantidad\n",
        "    def ret(self,cantidad):\n",
        "      self.saldo -= cantidad\n",
        "    def rev(self):\n",
        "      print(f\"El saldo de la cuenta de {self.nombre} es ${self.saldo}\")\n",
        "\n",
        "\n",
        ""
      ],
      "metadata": {
        "id": "gVu7mU5lwC15"
      },
      "execution_count": 83,
      "outputs": []
    },
    {
      "cell_type": "code",
      "source": [
        "p1=Banco(\"Carl\",\"60-30\")"
      ],
      "metadata": {
        "id": "fMwkARK24BI6"
      },
      "execution_count": 84,
      "outputs": []
    },
    {
      "cell_type": "code",
      "source": [
        "p1.cuenta(20000)"
      ],
      "metadata": {
        "colab": {
          "base_uri": "https://localhost:8080/"
        },
        "id": "kkkaLiqx4dDC",
        "outputId": "ba5885d2-e25a-40de-ceea-c37754248147"
      },
      "execution_count": 85,
      "outputs": [
        {
          "output_type": "stream",
          "name": "stdout",
          "text": [
            "Se creó una cuenta con $20000 de saldo\n"
          ]
        }
      ]
    },
    {
      "cell_type": "code",
      "source": [
        "p1.dep(500)"
      ],
      "metadata": {
        "id": "odUmUrE54kCi"
      },
      "execution_count": 86,
      "outputs": []
    },
    {
      "cell_type": "code",
      "source": [
        "p1.ret(600)"
      ],
      "metadata": {
        "id": "rUJqb9sq45Br"
      },
      "execution_count": 87,
      "outputs": []
    },
    {
      "cell_type": "code",
      "source": [
        "p1.rev()"
      ],
      "metadata": {
        "colab": {
          "base_uri": "https://localhost:8080/"
        },
        "id": "VCXRrbaC48MS",
        "outputId": "447988b5-49bc-4273-91fc-0ceece4b0d03"
      },
      "execution_count": 88,
      "outputs": [
        {
          "output_type": "stream",
          "name": "stdout",
          "text": [
            "El saldo de la cuenta de Carl es $19900\n"
          ]
        }
      ]
    },
    {
      "cell_type": "markdown",
      "source": [
        "Ej 5"
      ],
      "metadata": {
        "id": "58ROL4F_5Wla"
      }
    },
    {
      "cell_type": "code",
      "source": [
        "class Estudiante:\n",
        "  def __init__(self,nombre,edad,promedio):\n",
        "    self.nombre=nombre\n",
        "    self.edad=edad\n",
        "    self.promedio=promedio\n",
        "\n",
        "  def estudio(self):\n",
        "    print(f\"El estudiante {self.nombre} estudia con el fin de subir su promedio de {self.promedio} a {self.promedio+0.1}\")\n",
        "  def tarea(self):\n",
        "    print(f\"El estudiante {self.nombre} se reune con sus compañeros para realizar sus tareas pendientes, a su vez de repasar los temas vistos en las clases\")\n",
        "  def examen(self):\n",
        "    print(f\"El estudiante {self.nombre}, gracias a sus buenos métodos de estudios, le dieron buenos resultados cuando realizó sus examenes\")"
      ],
      "metadata": {
        "id": "dEPCL-rX5MKa"
      },
      "execution_count": 89,
      "outputs": []
    },
    {
      "cell_type": "code",
      "source": [
        "e=Estudiante(\"Camilo\",18,4.5)"
      ],
      "metadata": {
        "id": "YFQOv70L7Q7W"
      },
      "execution_count": 90,
      "outputs": []
    },
    {
      "cell_type": "code",
      "source": [
        "e.estudio()"
      ],
      "metadata": {
        "colab": {
          "base_uri": "https://localhost:8080/"
        },
        "id": "enO37nL377Nj",
        "outputId": "0de31989-b5bb-4f66-e7fa-55d3a8975701"
      },
      "execution_count": 91,
      "outputs": [
        {
          "output_type": "stream",
          "name": "stdout",
          "text": [
            "El estudiante Camilo estudia con el fin de subir su promedio de 4.5 a 4.6\n"
          ]
        }
      ]
    }
  ]
}