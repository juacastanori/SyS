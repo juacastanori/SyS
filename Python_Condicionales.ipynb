{
  "nbformat": 4,
  "nbformat_minor": 0,
  "metadata": {
    "colab": {
      "provenance": [],
      "authorship_tag": "ABX9TyO3gy/+LBFUTds5uCLSi/MJ",
      "include_colab_link": true
    },
    "kernelspec": {
      "name": "python3",
      "display_name": "Python 3"
    },
    "language_info": {
      "name": "python"
    }
  },
  "cells": [
    {
      "cell_type": "markdown",
      "metadata": {
        "id": "view-in-github",
        "colab_type": "text"
      },
      "source": [
        "<a href=\"https://colab.research.google.com/github/juacastanori/SyS/blob/main/Python_Condicionales.ipynb\" target=\"_parent\"><img src=\"https://colab.research.google.com/assets/colab-badge.svg\" alt=\"Open In Colab\"/></a>"
      ]
    },
    {
      "cell_type": "markdown",
      "source": [
        "# Cuaderno 2 - Ejercicios Python\n",
        "## Juan Jerónimo Castaño Rivera - 2024"
      ],
      "metadata": {
        "id": "mmj0YJ8Qm7Gp"
      }
    },
    {
      "cell_type": "markdown",
      "source": [
        "# **Ejercicios**"
      ],
      "metadata": {
        "id": "CH0N5-EXeGGC"
      }
    },
    {
      "cell_type": "markdown",
      "source": [
        "Ejercicio 1: In order to pay a certain tax, you must be over 16 years old and have a monthly income equal to or greater than €1000. Write a program that asks the user for their age and monthly income, and displays whether the user has to pay the tax or not."
      ],
      "metadata": {
        "id": "U2bGFU8heLch"
      }
    },
    {
      "cell_type": "code",
      "source": [
        "print(\"Programa indicador de pago de un impuesto. Si tienes más de 16 años y un ingreso mensual igual o mayor a €1000, tienes que pagar el impuesto.\")\n",
        "edad=int(input(\"Ingrese su edad: \"))                #Input de variables\n",
        "x=int(input(\"Ingrese su sueldo: €\"))\n",
        "if edad>16 and x>=1000:                             #Condicion\n",
        "  print(\"Usted tiene que pagar el impuesto\")\n",
        "else:\n",
        "  print(\"Usted NO tiene que pagar el impuesto\")"
      ],
      "metadata": {
        "colab": {
          "base_uri": "https://localhost:8080/"
        },
        "id": "n7nj0_0Cev9b",
        "outputId": "06ffd111-7051-4e92-f946-cde3d60663f9"
      },
      "execution_count": 3,
      "outputs": [
        {
          "output_type": "stream",
          "name": "stdout",
          "text": [
            "Programa indicador de pago de un impuesto. Si tienes más de 16 años y un ingreso mensual igual o mayor a €1000, tienes que pagar el impuesto.\n",
            "Ingrese su edad: 10\n",
            "Ingrese su sueldo: €20000\n",
            "Usted NO tiene que pagar el impuesto\n"
          ]
        }
      ]
    },
    {
      "cell_type": "markdown",
      "source": [
        "Ejercicio 2: The Bella Napoli pizzeria offers vegetarian and non-vegetarian pizzas to its customers. The ingredients for each type of pizza are as follows:\n",
        "Vegetarian ingredients: Bell peppers and tofu.\n",
        "\n",
        "Non-vegetarian ingredients: Pepperoni, Ham, and Salmon.\n",
        "\n",
        "Write a program that asks the user if they want a vegetarian pizza or not, and based on their response, displays a menu with the available ingredients for them to choose from. Only one additional ingredient can be chosen besides the mozzarella and tomato, which are included in all pizzas. Finally, the program should display whether the chosen pizza is vegetarian or not, along with all the ingredients it contains."
      ],
      "metadata": {
        "id": "b7M7SF6Rf2uw"
      }
    },
    {
      "cell_type": "code",
      "source": [
        "print(\"Pizzeria Bella Pizza\")\n",
        "a=input(\"Ingrese una X si quiere una pizza de tipo vegetariano. Ingrese una Y si quiere una pizza NO vegetariana: \\n\")  #Variable para saber si es vegetariana o no\n",
        "if a==\"x\" or a==\"X\":\n",
        "  b=int(input(\"Usted ha pedido una pizza vegetariana. Los ingredientes disponibles para esta pizza son: \\n\\n1)Pimientos \\n2)Tofu\\n\\nIngrese una de las opciones: \"))\n",
        "  if b==1:\n",
        "    print(\"Usted ha pedido una pizza vegetariana. Los ingredientes de la pizza son: \\n\\nMozarella\\nTomate\\nPimientos\")\n",
        "  elif b==2:\n",
        "    print(\"Usted ha pedido una pizza vegetariana. Los ingredientes de la pizza son: \\n\\nMozarella\\nTomate\\nTofu\")\n",
        "  else:\n",
        "    print(\"Opción incorrecta\")\n",
        "elif a==\"y\" or a==\"Y\":\n",
        "  b=int(input(\"Usted ha pedido una pizza NO vegetariana. Los ingredientes disponibles para esta pizza son: \\n\\n1)Peperoni \\n2)Jamón \\n3)Salmón \\n\\nIngrese una de las opciones: \"))\n",
        "  if b==1:\n",
        "    print(\"Usted ha pedido una pizza NO vegetariana. Los ingredientes de la pizza son: \\n\\nMozarella\\nTomate\\nPeperoni\")\n",
        "  elif b==2:\n",
        "    print(\"Usted ha pedido una pizza NO vegetariana. Los ingredientes de la pizza son: \\n\\nMozarella\\nTomate\\nJamón\")\n",
        "  elif b==3:\n",
        "    print(\"Usted ha pedido una pizza NO vegetariana. Los ingredientes de la pizza son: \\n\\nMozarella\\nTomate\\nSalmón\")\n",
        "  else:\n",
        "    print(\"Opción incorrecta\")\n",
        "else:\n",
        "  print(\"Opción incorrecta\")\n",
        "\n",
        "#Para este ejercicio se realizó un menú de opciones"
      ],
      "metadata": {
        "colab": {
          "base_uri": "https://localhost:8080/"
        },
        "id": "PV15mHgAf4Lv",
        "outputId": "5d76842a-0e7c-417c-d072-9714c317a65e"
      },
      "execution_count": 5,
      "outputs": [
        {
          "output_type": "stream",
          "name": "stdout",
          "text": [
            "Pizzeria Bella Pizza\n",
            "Ingrese una X si quiere una pizza de tipo vegetariano. Ingrese una Y si quiere una pizza NO vegetariana: \n",
            "X\n",
            "Usted ha pedido una pizza vegetariana. Los ingredientes disponibles para esta pizza son: \n",
            "\n",
            "1)Pimientos \n",
            "2)Tofu\n",
            "\n",
            "Ingrese una de las opciones: 2\n",
            "Usted ha pedido una pizza vegetariana. Los ingredientes de la pizza son: \n",
            "\n",
            "Mozarella\n",
            "Tomate\n",
            "Tofu\n"
          ]
        }
      ]
    }
  ]
}