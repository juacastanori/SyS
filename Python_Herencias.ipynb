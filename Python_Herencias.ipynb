{
  "nbformat": 4,
  "nbformat_minor": 0,
  "metadata": {
    "colab": {
      "provenance": [],
      "authorship_tag": "ABX9TyMzAxbUOZNA/d9acDDcSpyV",
      "include_colab_link": true
    },
    "kernelspec": {
      "name": "python3",
      "display_name": "Python 3"
    },
    "language_info": {
      "name": "python"
    }
  },
  "cells": [
    {
      "cell_type": "markdown",
      "metadata": {
        "id": "view-in-github",
        "colab_type": "text"
      },
      "source": [
        "<a href=\"https://colab.research.google.com/github/juacastanori/SyS/blob/main/Python_Herencias.ipynb\" target=\"_parent\"><img src=\"https://colab.research.google.com/assets/colab-badge.svg\" alt=\"Open In Colab\"/></a>"
      ]
    },
    {
      "cell_type": "markdown",
      "source": [
        "#Cuaderno 8 - Ejercicios Python Herencias\n",
        "##Juan Jerónimo Castaño Rivera - 2024"
      ],
      "metadata": {
        "id": "6pD78f212RZg"
      }
    },
    {
      "cell_type": "markdown",
      "source": [
        "##EJERCICIOS"
      ],
      "metadata": {
        "id": "TLW9-yxt2VEt"
      }
    },
    {
      "cell_type": "markdown",
      "source": [
        "## Ejercicio_1.\n",
        "\n",
        "Crea un sistema de manejo de figuras geométricas utilizando clases y herencia. Debes tener una clase base llamada \"FiguraGeometrica\" con un método abstracto llamado \"calcular_area()\". Luego, crea clases derivadas para diferentes tipos de figuras geométricas, como \"Círculo\", \"Rectángulo\" y \"Triángulo\". Cada clase derivada debe implementar el método \"calcular_area()\" de acuerdo con la fórmula correspondiente para el cálculo del área de esa figura."
      ],
      "metadata": {
        "id": "B58PxSg72a_8"
      }
    },
    {
      "cell_type": "code",
      "execution_count": 27,
      "metadata": {
        "id": "RZ8kem8u1-3S"
      },
      "outputs": [],
      "source": [
        "import math\n",
        "class FiguraGeometrica:\n",
        "  def calcular_area(self):\n",
        "    pass\n",
        "\n",
        "class Circulo(FiguraGeometrica):\n",
        "  def __init__(self, radio):\n",
        "      self.radio=radio\n",
        "  def calcular_area(self):\n",
        "    return math.pi*self.radio**2\n",
        "\n",
        "class Rect(FiguraGeometrica):\n",
        "  def __init__(self, lado1,lado2):\n",
        "      self.lado1=lado1\n",
        "      self.lado2=lado2\n",
        "  def calcular_area(self):\n",
        "    return self.lado1*self.lado2\n",
        "\n",
        "class Triangulo(FiguraGeometrica):\n",
        "  def __init__(self,base,altura):\n",
        "      self.base=base\n",
        "      self.altura=altura\n",
        "  def calcular_area(self):\n",
        "    return self.base*self.altura/2\n"
      ]
    },
    {
      "cell_type": "code",
      "source": [
        "c=Circulo(2)\n",
        "c"
      ],
      "metadata": {
        "colab": {
          "base_uri": "https://localhost:8080/"
        },
        "id": "Dtf5MAe56Du_",
        "outputId": "b06d4c7a-8153-4c67-b955-816640054cf5"
      },
      "execution_count": 28,
      "outputs": [
        {
          "output_type": "execute_result",
          "data": {
            "text/plain": [
              "<__main__.Circulo at 0x7cfe61ea7880>"
            ]
          },
          "metadata": {},
          "execution_count": 28
        }
      ]
    },
    {
      "cell_type": "code",
      "source": [
        "c.calcular_area()"
      ],
      "metadata": {
        "colab": {
          "base_uri": "https://localhost:8080/"
        },
        "id": "W-hkExYS-gKQ",
        "outputId": "1e7a4500-8c12-4976-fb40-916ba277bb55"
      },
      "execution_count": 29,
      "outputs": [
        {
          "output_type": "execute_result",
          "data": {
            "text/plain": [
              "12.566370614359172"
            ]
          },
          "metadata": {},
          "execution_count": 29
        }
      ]
    },
    {
      "cell_type": "code",
      "source": [
        "r=Rect(2,5)\n",
        "r.calcular_area()"
      ],
      "metadata": {
        "colab": {
          "base_uri": "https://localhost:8080/"
        },
        "id": "nXWySJ_rDOsq",
        "outputId": "ee598b82-5458-42c8-f41d-282877e3f1c8"
      },
      "execution_count": 30,
      "outputs": [
        {
          "output_type": "execute_result",
          "data": {
            "text/plain": [
              "10"
            ]
          },
          "metadata": {},
          "execution_count": 30
        }
      ]
    },
    {
      "cell_type": "code",
      "source": [
        "t=Triangulo(6,4)\n",
        "t.calcular_area()"
      ],
      "metadata": {
        "colab": {
          "base_uri": "https://localhost:8080/"
        },
        "id": "SUhLY33cDZYb",
        "outputId": "feb588a1-f221-4df0-9126-5595666607cf"
      },
      "execution_count": 31,
      "outputs": [
        {
          "output_type": "execute_result",
          "data": {
            "text/plain": [
              "12.0"
            ]
          },
          "metadata": {},
          "execution_count": 31
        }
      ]
    },
    {
      "cell_type": "markdown",
      "source": [
        "## Ejercicio_2\n",
        "\n",
        "Crea un sistema de reserva de vuelos utilizando clases y herencia. Debes tener una clase base llamada \"Vuelo\" con los siguientes atributos: número de vuelo, origen, destino, y capacidad máxima de pasajeros. Luego, crea una clase derivada llamada \"VueloEconomico\" que herede de la clase base y agregue un atributo adicional llamado \"tarifa\". Además, agrega métodos en ambas clases para mostrar la información del vuelo y realizar una reserva de asientos.\n",
        "\n",
        "La clase base \"Vuelo\" debe tener un método para verificar si hay asientos disponibles y otro para realizar la reserva de un asiento. La clase derivada \"VueloEconomico\" puede tener métodos adicionales para calcular el precio total de la reserva de acuerdo con la tarifa y la cantidad de asientos reservados."
      ],
      "metadata": {
        "id": "pAPtGbXA2d32"
      }
    },
    {
      "cell_type": "code",
      "source": [
        "class Vuelo:\n",
        "  def __init__(self,nV,origen,destino,cap_max):\n",
        "    self.nV=nV\n",
        "    self.origen=origen\n",
        "    self.destino=destino\n",
        "    self.cap_max=cap_max\n",
        "\n",
        "  def disp(self):\n",
        "    self.cc=True\n",
        "    print(\"Hay asientos disponibles\")\n",
        "\n",
        "  def ndisp(self):\n",
        "    self.cc=False\n",
        "    print(\"NO hay asientos disponibles\")\n",
        "\n",
        "  def reserva(self):\n",
        "    if self.cc==True:\n",
        "      x=input(\"Hay asientos disponibles, cuantos desea reservar?: \")\n",
        "      x=int(x)\n",
        "      if x>self.cap_max:\n",
        "        print(\"ERROR, esta intentando reservar más asientos de los que se tiene disponible. Intente nuevamente\")\n",
        "      elif x<0:\n",
        "        print(\"ERROR, no puede reservar una cantidad de asientos negativa\")\n",
        "      else:\n",
        "        self.resv=x\n",
        "    else:\n",
        "      print(\"No hay asientos disponibles en este momento\")\n",
        "\n",
        "  def info(self):\n",
        "    print(f\"El vuelo número {self.nV} tiene origen {self.origen}, destino {self.destino}. Y cuenta con una capacidad máxima de {self.cap_max} pasajeros.\")\n",
        "\n",
        "class VueloEconomico(Vuelo):\n",
        "  def __init__(self, nV,origen,destino,cap_max,tarifa):\n",
        "        super().__init__(nV, origen, destino,cap_max,)\n",
        "        self.tarifa = tarifa\n",
        "  def precio(self):\n",
        "    print(f\"El precio total de la reserva, sabiendo que se reservaron {self.resv} asientos, cada uno con un costo de ${self.tarifa} es de ${self.tarifa*self.resv}\")"
      ],
      "metadata": {
        "id": "9duUiFqRDwO6"
      },
      "execution_count": 68,
      "outputs": []
    },
    {
      "cell_type": "code",
      "source": [
        "a=Vuelo(1,\"Co\",\"Usa\",100)"
      ],
      "metadata": {
        "id": "MK18hpNFMEb0"
      },
      "execution_count": 69,
      "outputs": []
    },
    {
      "cell_type": "code",
      "source": [
        "a.disp()"
      ],
      "metadata": {
        "colab": {
          "base_uri": "https://localhost:8080/"
        },
        "id": "Yjf5hFqfMwPN",
        "outputId": "f66741d2-4b9e-41ff-c33b-f38e353e6d8e"
      },
      "execution_count": 70,
      "outputs": [
        {
          "output_type": "stream",
          "name": "stdout",
          "text": [
            "Hay asientos disponibles\n"
          ]
        }
      ]
    },
    {
      "cell_type": "code",
      "source": [
        "a.reserva()"
      ],
      "metadata": {
        "colab": {
          "base_uri": "https://localhost:8080/"
        },
        "id": "qUmamKdgM9X8",
        "outputId": "ccdb8b81-6b36-4aec-cef4-2326cbc1ab64"
      },
      "execution_count": 71,
      "outputs": [
        {
          "name": "stdout",
          "output_type": "stream",
          "text": [
            "Hay asientos disponibles, cuantos desea reservar?: 12\n"
          ]
        }
      ]
    },
    {
      "cell_type": "code",
      "source": [
        "a.ndisp()"
      ],
      "metadata": {
        "colab": {
          "base_uri": "https://localhost:8080/"
        },
        "id": "ALJncVbqNRXE",
        "outputId": "14814c4f-9920-4423-b273-262a3a2420e5"
      },
      "execution_count": 72,
      "outputs": [
        {
          "output_type": "stream",
          "name": "stdout",
          "text": [
            "NO hay asientos disponibles\n"
          ]
        }
      ]
    },
    {
      "cell_type": "code",
      "source": [
        "a.reserva()"
      ],
      "metadata": {
        "colab": {
          "base_uri": "https://localhost:8080/"
        },
        "id": "oXYw4YMBNVxd",
        "outputId": "240c6073-c617-48ff-f4ed-7f8679d77104"
      },
      "execution_count": 73,
      "outputs": [
        {
          "output_type": "stream",
          "name": "stdout",
          "text": [
            "No hay asientos disponibles en este momento\n"
          ]
        }
      ]
    },
    {
      "cell_type": "code",
      "source": [
        "a.disp()"
      ],
      "metadata": {
        "colab": {
          "base_uri": "https://localhost:8080/"
        },
        "id": "HBgLCpzUNYnM",
        "outputId": "88b3130a-fdb2-42ed-b64b-2ef897a0c3b0"
      },
      "execution_count": 74,
      "outputs": [
        {
          "output_type": "stream",
          "name": "stdout",
          "text": [
            "Hay asientos disponibles\n"
          ]
        }
      ]
    },
    {
      "cell_type": "code",
      "source": [
        "a2=VueloEconomico(1,\"Co\",\"Usa\",100,1000)"
      ],
      "metadata": {
        "id": "pzJ1nK7lNi39"
      },
      "execution_count": 75,
      "outputs": []
    },
    {
      "cell_type": "code",
      "source": [
        "a2.info()"
      ],
      "metadata": {
        "colab": {
          "base_uri": "https://localhost:8080/"
        },
        "id": "WQD5KsARN80G",
        "outputId": "0409d39c-288d-4cee-a941-82642bcbb755"
      },
      "execution_count": 76,
      "outputs": [
        {
          "output_type": "stream",
          "name": "stdout",
          "text": [
            "El vuelo número 1 tiene origen Co, destino Usa. Y cuenta con una caacidad máxima de 100 pasajeros.\n"
          ]
        }
      ]
    },
    {
      "cell_type": "code",
      "source": [
        "a2.disp()\n",
        "a2.reserva()"
      ],
      "metadata": {
        "colab": {
          "base_uri": "https://localhost:8080/"
        },
        "id": "NAMu56-9N_BU",
        "outputId": "c7530d93-3062-4ac6-b104-65afff2fbfeb"
      },
      "execution_count": 80,
      "outputs": [
        {
          "output_type": "stream",
          "name": "stdout",
          "text": [
            "Hay asientos disponibles\n",
            "Hay asientos disponibles, cuantos desea reservar?: 444\n",
            "ERROR, esta intentando reservar más asientos de los que se tiene disponible. Intente nuevamente\n"
          ]
        }
      ]
    },
    {
      "cell_type": "code",
      "source": [
        "a2.precio()"
      ],
      "metadata": {
        "colab": {
          "base_uri": "https://localhost:8080/"
        },
        "id": "u89wuF5AOLD2",
        "outputId": "85fbbed8-fd56-4a08-fd3a-123ab6db6bcc"
      },
      "execution_count": 81,
      "outputs": [
        {
          "output_type": "stream",
          "name": "stdout",
          "text": [
            "El precio total de la reserva, sabiendo que se reservaron 10 asientos, cada uno con un costo de $1000 es de $10000\n"
          ]
        }
      ]
    }
  ]
}