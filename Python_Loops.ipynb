{
  "nbformat": 4,
  "nbformat_minor": 0,
  "metadata": {
    "colab": {
      "provenance": [],
      "authorship_tag": "ABX9TyOUaLE9OJM+qDvsveQ2x5rK",
      "include_colab_link": true
    },
    "kernelspec": {
      "name": "python3",
      "display_name": "Python 3"
    },
    "language_info": {
      "name": "python"
    }
  },
  "cells": [
    {
      "cell_type": "markdown",
      "metadata": {
        "id": "view-in-github",
        "colab_type": "text"
      },
      "source": [
        "<a href=\"https://colab.research.google.com/github/juacastanori/SyS/blob/main/Python_Loops.ipynb\" target=\"_parent\"><img src=\"https://colab.research.google.com/assets/colab-badge.svg\" alt=\"Open In Colab\"/></a>"
      ]
    },
    {
      "cell_type": "markdown",
      "source": [
        "#Cuaderno 3 - Ejercicios Python\n",
        "##Juan Jerónimo Castaño Rivera - 2024\n",
        "\n"
      ],
      "metadata": {
        "id": "hQpZan3ZyfXS"
      }
    },
    {
      "cell_type": "markdown",
      "source": [
        "# **EJERCICIOS**"
      ],
      "metadata": {
        "id": "Hx5ivxVEaA9L"
      }
    },
    {
      "cell_type": "markdown",
      "source": [
        "Ejercicio 1: Write a code that ask the user to enter an integer number every time, and the process will be repeated with more numbers until the user enters a zero.\n",
        "\n",
        "At the end (when the zero is entered), show the amount of numbers entered."
      ],
      "metadata": {
        "id": "VSRpouiWaEJj"
      }
    },
    {
      "cell_type": "code",
      "source": [
        "# Programa que pregunta al usuario por un número entero, hasta que ingresa un cero. El programa muestra la cantidad de números ingresados\n",
        "c=0\n",
        "b=1\n",
        "while b:                               #Ciclo de ingreso de datos\n",
        "  x=int(input(\"Ingrese un número: \"))  #Input\n",
        "  c=c+1\n",
        "  if x==0:\n",
        "    b=0\n",
        "if c==1:\n",
        "  print(\"Ingresó 1 número\")\n",
        "else:\n",
        "  print(\"\\nIngresó \"+str(c)+\" números incluyendo el cero\") #Respuesta"
      ],
      "metadata": {
        "colab": {
          "base_uri": "https://localhost:8080/"
        },
        "id": "RqsMmwBtaFgK",
        "outputId": "465a1308-2250-41c6-8f80-5e56279e8c1b"
      },
      "execution_count": 6,
      "outputs": [
        {
          "output_type": "stream",
          "name": "stdout",
          "text": [
            "Ingrese un número: 1\n",
            "Ingrese un número: 1\n",
            "Ingrese un número: 56\n",
            "Ingrese un número: 34\n",
            "Ingrese un número: 5\n",
            "Ingrese un número: 0\n",
            "\n",
            "Ingresó 6 números incluyendo el cero\n"
          ]
        }
      ]
    },
    {
      "cell_type": "markdown",
      "source": [
        "Ejercicio 2: Use the input() function to ask for the user to enter one integer number. Only if the number is even, it will be accumulated.\n",
        "\n",
        "The program must come to an end if the sum of the numbers surpasses 50 or if the user enters a maximum of 10 numbers."
      ],
      "metadata": {
        "id": "n0e2p_TkbcEr"
      }
    },
    {
      "cell_type": "code",
      "source": [
        "#Programa que hace un ciclo de ingreso de números enteros. Si el dato ingresado es par, se irá acumulando en una suma. El programa acaba si la suma es mayor a 50 o si el usuario ingresa máximo 10 datos\n",
        "cont=0\n",
        "a=1                                             #Variables contadoras\n",
        "sum=0\n",
        "while a:                                        #Ciclo de inputs\n",
        "  x=int(input(\"Ingrese un entero: \"))\n",
        "  if x%2==0:\n",
        "    sum=sum+x\n",
        "  if sum>=50 or cont==9:                        #Condición\n",
        "    a=0\n",
        "  cont=cont+1\n",
        "print(\"La suma fue: \"+str(sum))                 #Respuesta\n"
      ],
      "metadata": {
        "colab": {
          "base_uri": "https://localhost:8080/"
        },
        "id": "i9s_TOFxbd1V",
        "outputId": "b6b6218b-2743-4036-e173-ef57d69cd088"
      },
      "execution_count": 7,
      "outputs": [
        {
          "output_type": "stream",
          "name": "stdout",
          "text": [
            "Ingrese un entero: 2\n",
            "Ingrese un entero: 2\n",
            "Ingrese un entero: 2\n",
            "Ingrese un entero: 2\n",
            "Ingrese un entero: 45\n",
            "Ingrese un entero: 47\n",
            "Ingrese un entero: 20\n",
            "Ingrese un entero: 20\n",
            "Ingrese un entero: 2\n",
            "La suma fue: 50\n"
          ]
        }
      ]
    }
  ]
}