{
  "nbformat": 4,
  "nbformat_minor": 0,
  "metadata": {
    "colab": {
      "provenance": [],
      "authorship_tag": "ABX9TyM4glSlYOlhsx7XsAR38nYT",
      "include_colab_link": true
    },
    "kernelspec": {
      "name": "python3",
      "display_name": "Python 3"
    },
    "language_info": {
      "name": "python"
    }
  },
  "cells": [
    {
      "cell_type": "markdown",
      "metadata": {
        "id": "view-in-github",
        "colab_type": "text"
      },
      "source": [
        "<a href=\"https://colab.research.google.com/github/juacastanori/SyS/blob/main/Ejercicio_SLIT.ipynb\" target=\"_parent\"><img src=\"https://colab.research.google.com/assets/colab-badge.svg\" alt=\"Open In Colab\"/></a>"
      ]
    },
    {
      "cell_type": "markdown",
      "source": [
        "##EJERCICIO\n",
        "\n",
        "#Sea g{} un SLIT con respuesta al escalon $h_u(t)=te^{-At}u(t) =$ g{u(t)}\n",
        "#Encuentre y(t)=g{x(t)} para $x(t)=e^{-Bt}u(t-t_o)$\n",
        "#$A, B,t_o$ pertenecen a $R^{+}$\n",
        "\n"
      ],
      "metadata": {
        "id": "IeXvgUdqQQXC"
      }
    },
    {
      "cell_type": "code",
      "execution_count": 2,
      "metadata": {
        "colab": {
          "base_uri": "https://localhost:8080/",
          "height": 39
        },
        "id": "IhWkcWwDQIKb",
        "outputId": "316891da-cd0b-400f-d758-14d78dca2e04"
      },
      "outputs": [
        {
          "output_type": "execute_result",
          "data": {
            "text/plain": [
              "   -A⋅t\n",
              "t⋅ℯ    "
            ],
            "text/latex": "$\\displaystyle t e^{- A t}$"
          },
          "metadata": {},
          "execution_count": 2
        }
      ],
      "source": [
        "%matplotlib inline\n",
        "import sympy as sym\n",
        "sym.init_printing()\n",
        "\n",
        "t, tau, A, B, to = sym.symbols('t tau A B to', real=True)\n",
        "step = sym.Heaviside(t)#función escalón en sympy\n",
        "step\n",
        "\n",
        "hu=t*sym.exp(-A*t)\n",
        "#hu=t*sym.exp(-A*t)*step  como evaluarlo para t>0?\n",
        "hu"
      ]
    },
    {
      "cell_type": "code",
      "source": [
        "h=sym.diff(hu,t)\n",
        "h"
      ],
      "metadata": {
        "colab": {
          "base_uri": "https://localhost:8080/",
          "height": 39
        },
        "id": "HHf3WJdGZi6H",
        "outputId": "46102979-6b1a-4b1b-c18f-8e8d21502ce5"
      },
      "execution_count": 3,
      "outputs": [
        {
          "output_type": "execute_result",
          "data": {
            "text/plain": [
              "       -A⋅t    -A⋅t\n",
              "- A⋅t⋅ℯ     + ℯ    "
            ],
            "text/latex": "$\\displaystyle - A t e^{- A t} + e^{- A t}$"
          },
          "metadata": {},
          "execution_count": 3
        }
      ]
    },
    {
      "cell_type": "code",
      "source": [
        "h1=h.subs({t:t-tau})\n",
        "h1  #h(t-tau)"
      ],
      "metadata": {
        "colab": {
          "base_uri": "https://localhost:8080/",
          "height": 40
        },
        "id": "PWJusRHNZuqH",
        "outputId": "9f3e142a-ffb9-4bb7-ded5-1038ae25dd0a"
      },
      "execution_count": 4,
      "outputs": [
        {
          "output_type": "execute_result",
          "data": {
            "text/plain": [
              "             -A⋅(t - τ)    -A⋅(t - τ)\n",
              "- A⋅(t - τ)⋅ℯ           + ℯ          "
            ],
            "text/latex": "$\\displaystyle - A \\left(t - \\tau\\right) e^{- A \\left(t - \\tau\\right)} + e^{- A \\left(t - \\tau\\right)}$"
          },
          "metadata": {},
          "execution_count": 4
        }
      ]
    },
    {
      "cell_type": "code",
      "source": [
        "x=sym.exp(-B*t)*step.subs({t:t-to})\n",
        "x"
      ],
      "metadata": {
        "colab": {
          "base_uri": "https://localhost:8080/",
          "height": 39
        },
        "id": "qJQEz4qZZw-v",
        "outputId": "adc67bcc-3402-4033-c805-dcd51a4c0093"
      },
      "execution_count": 5,
      "outputs": [
        {
          "output_type": "execute_result",
          "data": {
            "text/plain": [
              " -B⋅t          \n",
              "ℯ    ⋅θ(t - to)"
            ],
            "text/latex": "$\\displaystyle e^{- B t} \\theta\\left(t - to\\right)$"
          },
          "metadata": {},
          "execution_count": 5
        }
      ]
    },
    {
      "cell_type": "code",
      "source": [
        "x1=x.subs({t:tau})\n",
        "x1  #x(tau)"
      ],
      "metadata": {
        "colab": {
          "base_uri": "https://localhost:8080/",
          "height": 39
        },
        "id": "Ye0-CQRPZzj-",
        "outputId": "9addc356-80cb-493d-8d2d-37def0ebcaf2"
      },
      "execution_count": 6,
      "outputs": [
        {
          "output_type": "execute_result",
          "data": {
            "text/plain": [
              " -B⋅τ          \n",
              "ℯ    ⋅θ(τ - to)"
            ],
            "text/latex": "$\\displaystyle e^{- B \\tau} \\theta\\left(\\tau - to\\right)$"
          },
          "metadata": {},
          "execution_count": 6
        }
      ]
    },
    {
      "cell_type": "code",
      "source": [
        "y=sym.integrate(x1*h1,(tau,-sym.oo,sym.oo))\n",
        "y"
      ],
      "metadata": {
        "colab": {
          "base_uri": "https://localhost:8080/",
          "height": 91
        },
        "id": "VqDwJdYuZ1kO",
        "outputId": "4f3fcf31-b662-43d4-8d22-a2d9ebe1d71d"
      },
      "execution_count": 7,
      "outputs": [
        {
          "output_type": "execute_result",
          "data": {
            "text/plain": [
              "⎧   -A⋅t + A⋅to - B⋅to       -A⋅t + A⋅to - B⋅to    -A⋅t + A⋅to - B⋅to    -A⋅t \n",
              "⎪t⋅ℯ                     to⋅ℯ                     ℯ                     ℯ     \n",
              "⎪───────────────────── - ────────────────────── - ─────────────────── + ──────\n",
              "⎪            B                       B                   ⎛    B⎞              \n",
              "⎪        1 - ─                   1 - ─                 A⋅⎜1 - ─⎟              \n",
              "⎪            A                       A                   ⎝    A⎠             A\n",
              "⎪                                                                             \n",
              "⎨                                                                             \n",
              "⎪              ∞                                                              \n",
              "⎪              ⌠                                                              \n",
              "⎪              ⎮  ⎛             -A⋅(t - τ)    -A⋅(t - τ)⎞  -B⋅τ               \n",
              "⎪              ⎮  ⎝- A⋅(t - τ)⋅ℯ           + ℯ          ⎠⋅ℯ    ⋅θ(τ - to) dτ  \n",
              "⎪              ⌡                                                              \n",
              "⎪              -∞                                                             \n",
              "⎩                                                                             \n",
              "\n",
              "+ A⋅to - B⋅to                                                                 \n",
              "                   ⎛           π                  π⎞   ⎛               π      \n",
              "─────────────  for ⎜│arg(B)│ ≤ ─ ∧ │arg(A) + π│ < ─⎟ ∨ ⎜│arg(A) + π│ ≤ ─ ∧ │ar\n",
              "        2          ⎝           2                  2⎠   ⎝               2      \n",
              " ⎛    B⎞                                                                      \n",
              "⋅⎜1 - ─⎟                                                                      \n",
              " ⎝    A⎠                                                                      \n",
              "                                                                              \n",
              "                                                                              \n",
              "                                                                              \n",
              "                                                                              \n",
              "                                                                 otherwise    \n",
              "                                                                              \n",
              "                                                                              \n",
              "                                                                              \n",
              "\n",
              "                                              \n",
              "        π⎞   ⎛               π              π⎞\n",
              "g(B)│ < ─⎟ ∨ ⎜│arg(A) + π│ < ─ ∧ │arg(B)│ < ─⎟\n",
              "        2⎠   ⎝               2              2⎠\n",
              "                                              \n",
              "                                              \n",
              "                                              \n",
              "                                              \n",
              "                                              \n",
              "                                              \n",
              "                                              \n",
              "                                              \n",
              "                                              \n",
              "                                              \n",
              "                                              "
            ],
            "text/latex": "$\\displaystyle \\begin{cases} \\frac{t e^{- A t + A to - B to}}{1 - \\frac{B}{A}} - \\frac{to e^{- A t + A to - B to}}{1 - \\frac{B}{A}} - \\frac{e^{- A t + A to - B to}}{A \\left(1 - \\frac{B}{A}\\right)} + \\frac{e^{- A t + A to - B to}}{A \\left(1 - \\frac{B}{A}\\right)^{2}} & \\text{for}\\: \\left(\\left|{\\arg{\\left(B \\right)}}\\right| \\leq \\frac{\\pi}{2} \\wedge \\left|{\\arg{\\left(A \\right)} + \\pi}\\right| < \\frac{\\pi}{2}\\right) \\vee \\left(\\left|{\\arg{\\left(A \\right)} + \\pi}\\right| \\leq \\frac{\\pi}{2} \\wedge \\left|{\\arg{\\left(B \\right)}}\\right| < \\frac{\\pi}{2}\\right) \\vee \\left(\\left|{\\arg{\\left(A \\right)} + \\pi}\\right| < \\frac{\\pi}{2} \\wedge \\left|{\\arg{\\left(B \\right)}}\\right| < \\frac{\\pi}{2}\\right) \\\\\\int\\limits_{-\\infty}^{\\infty} \\left(- A \\left(t - \\tau\\right) e^{- A \\left(t - \\tau\\right)} + e^{- A \\left(t - \\tau\\right)}\\right) e^{- B \\tau} \\theta\\left(\\tau - to\\right)\\, d\\tau & \\text{otherwise} \\end{cases}$"
          },
          "metadata": {},
          "execution_count": 7
        }
      ]
    },
    {
      "cell_type": "markdown",
      "source": [
        "Para nuestro caso, va de $t_o$ a $t$\n"
      ],
      "metadata": {
        "id": "2QdRpxJZyYKg"
      }
    },
    {
      "cell_type": "code",
      "source": [
        "x1=sym.exp(-B*tau)\n",
        "x1"
      ],
      "metadata": {
        "colab": {
          "base_uri": "https://localhost:8080/",
          "height": 39
        },
        "id": "rlNI7mhryXvh",
        "outputId": "92242bf6-b762-4724-ddf3-8030d9b4732a"
      },
      "execution_count": 8,
      "outputs": [
        {
          "output_type": "execute_result",
          "data": {
            "text/plain": [
              " -B⋅τ\n",
              "ℯ    "
            ],
            "text/latex": "$\\displaystyle e^{- B \\tau}$"
          },
          "metadata": {},
          "execution_count": 8
        }
      ]
    },
    {
      "cell_type": "code",
      "source": [
        "y=sym.integrate(x1*h1,(tau,0,t))\n",
        "y"
      ],
      "metadata": {
        "colab": {
          "base_uri": "https://localhost:8080/",
          "height": 68
        },
        "id": "fE_w25Ixy_ep",
        "outputId": "02abe8db-f694-4d46-c29c-6fbebff5132f"
      },
      "execution_count": 11,
      "outputs": [
        {
          "data": {
            "text/latex": "$\\displaystyle \\begin{cases} \\frac{A^{2} t}{A^{2} e^{A t} - 2 A B e^{A t} + B^{2} e^{A t}} - \\frac{A B t}{A^{2} e^{A t} - 2 A B e^{A t} + B^{2} e^{A t}} - \\frac{B}{A^{2} e^{B t} - 2 A B e^{B t} + B^{2} e^{B t}} + \\frac{B}{A^{2} e^{A t} - 2 A B e^{A t} + B^{2} e^{A t}} & \\text{for}\\: A \\neq B \\\\- \\frac{B t^{2} e^{- B t}}{2} + t e^{- B t} & \\text{otherwise} \\end{cases}$",
            "text/plain": [
              "⎧              2                                                              \n",
              "⎪             A ⋅t                            A⋅B⋅t                           \n",
              "⎪────────────────────────────── - ────────────────────────────── - ───────────\n",
              "⎪ 2  A⋅t          A⋅t    2  A⋅t    2  A⋅t          A⋅t    2  A⋅t    2  B⋅t    \n",
              "⎪A ⋅ℯ    - 2⋅A⋅B⋅ℯ    + B ⋅ℯ      A ⋅ℯ    - 2⋅A⋅B⋅ℯ    + B ⋅ℯ      A ⋅ℯ    - 2\n",
              "⎨                                                                             \n",
              "⎪                                                          2  -B⋅t            \n",
              "⎪                                                       B⋅t ⋅ℯ          -B⋅t  \n",
              "⎪                                                     - ────────── + t⋅ℯ      \n",
              "⎪                                                           2                 \n",
              "⎩                                                                             \n",
              "\n",
              "                                                               \n",
              "   B                                B                          \n",
              "─────────────────── + ──────────────────────────────  for A ≠ B\n",
              "      B⋅t    2  B⋅t    2  A⋅t          A⋅t    2  A⋅t           \n",
              "⋅A⋅B⋅ℯ    + B ⋅ℯ      A ⋅ℯ    - 2⋅A⋅B⋅ℯ    + B ⋅ℯ              \n",
              "                                                               \n",
              "                                                               \n",
              "                                                               \n",
              "                                                      otherwise\n",
              "                                                               \n",
              "                                                               "
            ]
          },
          "execution_count": 11,
          "metadata": {},
          "output_type": "execute_result"
        }
      ]
    }
  ]
}