{
  "nbformat": 4,
  "nbformat_minor": 0,
  "metadata": {
    "colab": {
      "provenance": [],
      "authorship_tag": "ABX9TyPL+MqlcSWNhUq12ah7tkb7",
      "include_colab_link": true
    },
    "kernelspec": {
      "name": "python3",
      "display_name": "Python 3"
    },
    "language_info": {
      "name": "python"
    }
  },
  "cells": [
    {
      "cell_type": "markdown",
      "metadata": {
        "id": "view-in-github",
        "colab_type": "text"
      },
      "source": [
        "<a href=\"https://colab.research.google.com/github/juacastanori/SyS/blob/main/Python_Funciones.ipynb\" target=\"_parent\"><img src=\"https://colab.research.google.com/assets/colab-badge.svg\" alt=\"Open In Colab\"/></a>"
      ]
    },
    {
      "cell_type": "markdown",
      "source": [
        "#Cuaderno 5 - Ejercicios Python Funciones\n",
        "##Juan Jerónimo Castaño Rivera - 2024"
      ],
      "metadata": {
        "id": "59hD-LHpDaYx"
      }
    },
    {
      "cell_type": "markdown",
      "source": [
        "#EJERCICIOS"
      ],
      "metadata": {
        "id": "XeLMV0TPDh_J"
      }
    },
    {
      "cell_type": "markdown",
      "source": [
        "1) The area of a triangle can be calculated when the length of its sides is known. Taking into account that s1, s2 and s3 are the lengths of the sides of the triangle, the subperimeter s = (s1+s2+s3)/2 can be calculated, and, with this value, the area of the triangle can be calculated from the follows: area = √( s * (s-s1) * (s-s2) * (s-s3) ).\n",
        "\n",
        "Create a function that takes the length of the sides of the triangle and returns the area of the triangle, rounded to one decimal place.\n",
        "\n",
        "The math module can help you calculate the square root."
      ],
      "metadata": {
        "id": "q6UMgrr1HNYq"
      }
    },
    {
      "cell_type": "code",
      "source": [
        "from math import sqrt\n",
        "\n",
        "def area(s1,s2,s3):\n",
        "  s=(s1+s2+s3)/2\n",
        "  a=sqrt(s*(s-s1)*(s-s2)*(s-s3))\n",
        "  a=round(a,1)\n",
        "  return a\n"
      ],
      "metadata": {
        "id": "ifsCp_11DhTZ"
      },
      "execution_count": 21,
      "outputs": []
    },
    {
      "cell_type": "code",
      "execution_count": 22,
      "metadata": {
        "colab": {
          "base_uri": "https://localhost:8080/"
        },
        "id": "gmSA1tmVDXub",
        "outputId": "eb436c43-6eb8-451f-bd0c-3282a4c2c178"
      },
      "outputs": [
        {
          "output_type": "stream",
          "name": "stdout",
          "text": [
            "Ingrese s1: 3\n",
            "Ingrese s2: 3\n",
            "Ingrese s3: 3\n",
            "3.9\n"
          ]
        }
      ],
      "source": [
        "s1=input(\"Ingrese s1: \")\n",
        "s1=float(s1)\n",
        "s2=input(\"Ingrese s2: \")\n",
        "s2=float(s2)\n",
        "s3=input(\"Ingrese s3: \")\n",
        "s3=float(s3)\n",
        "\n",
        "print(area(s1,s2,s3))"
      ]
    },
    {
      "cell_type": "markdown",
      "source": [
        "2) Create a function that can calculate a person's body mass index (BMI).\n",
        "\n",
        "The formula to calculate BMI is as follows:\n",
        "\n",
        "BMI = weight/(height^2)\n",
        "\n",
        "In this formula the weight is in kilograms and the height in meters. Note that the weight and height received by your function will be in pounds and inches respectively, since your function will be used in the United States.\n",
        "\n",
        "Remember that:\n",
        "\n",
        "1 pound corresponds to 0.45kg.\n",
        "\n",
        "1 inch corresponds to 0.025 meters.\n",
        "\n",
        "The return value must be rounded to two decimal places."
      ],
      "metadata": {
        "id": "KWZjCxMsJCAS"
      }
    },
    {
      "cell_type": "code",
      "source": [
        "def imc(hp,wp):\n",
        "  hp=hp*0.025\n",
        "  wp=wp*0.45\n",
        "  v=wp/hp**2\n",
        "  v=round(v,2)\n",
        "  return v"
      ],
      "metadata": {
        "id": "Ilon9ZW8I-2r"
      },
      "execution_count": 23,
      "outputs": []
    },
    {
      "cell_type": "code",
      "source": [
        "wp=input(\"Ingrese peso en libras: \")\n",
        "wp=float(wp)\n",
        "hp=input(\"Ingrese estatura en pulgadas: \")\n",
        "hp=float(hp)\n",
        "\n",
        "x=imc(hp,wp)\n",
        "x"
      ],
      "metadata": {
        "colab": {
          "base_uri": "https://localhost:8080/"
        },
        "id": "Y52M3ySGKW4L",
        "outputId": "550319db-d71a-477f-b39c-d6108424e115"
      },
      "execution_count": 24,
      "outputs": [
        {
          "name": "stdout",
          "output_type": "stream",
          "text": [
            "Ingrese peso en libras: 100\n",
            "Ingrese estatura en pulgadas: 63\n"
          ]
        },
        {
          "output_type": "execute_result",
          "data": {
            "text/plain": [
              "18.14"
            ]
          },
          "metadata": {},
          "execution_count": 24
        }
      ]
    }
  ]
}